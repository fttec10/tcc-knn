{
 "cells": [
  {
   "cell_type": "code",
   "execution_count": 18,
   "metadata": {},
   "outputs": [],
   "source": [
    "import pandas as pd\n",
    "import numpy as np\n",
    "import matplotlib.pyplot as plt\n",
    "from sklearn.preprocessing import StandardScaler\n",
    "from sklearn.model_selection import train_test_split\n",
    "from sklearn.neighbors import KNeighborsClassifier\n",
    "\n",
    "#Leave One Out (LOO)\n",
    "from sklearn.model_selection import LeaveOneOut"
   ]
  },
  {
   "cell_type": "markdown",
   "metadata": {},
   "source": [
    "### Dividindo a base em treino e teste"
   ]
  },
  {
   "cell_type": "code",
   "execution_count": 19,
   "metadata": {
    "scrolled": true
   },
   "outputs": [
    {
     "data": {
      "text/plain": [
       "KNeighborsClassifier(algorithm='auto', leaf_size=30, metric='minkowski',\n",
       "                     metric_params=None, n_jobs=None, n_neighbors=7, p=2,\n",
       "                     weights='uniform')"
      ]
     },
     "execution_count": 19,
     "metadata": {},
     "output_type": "execute_result"
    }
   ],
   "source": [
    "# Carregando Dataset\n",
    "df = pd.read_csv('data/input-knn.csv',engine='python', sep=',')\n",
    "df.head()\n",
    "\n",
    "# Separando Alternativas selecionas(X) e conteúdos sugeridos(y)\n",
    "X = df.drop('Content',axis=1).values\n",
    "y = df['Content'].values\n",
    "\n",
    "# Normalizando os id´s das alternarivas\n",
    "scaler = StandardScaler()\n",
    "X = scaler.fit_transform(X)\n",
    "\n",
    "# Dividindo a base em Treino(80%) e Teste(20%)\n",
    "X_train, X_test, y_train, y_test = train_test_split(X, y, test_size=0.2, random_state=1, stratify=y)\n",
    "\n",
    "# Definindo os parâmetros que serão utilizados pelo KNN\n",
    "knn = KNeighborsClassifier(n_neighbors = 7)\n",
    "knn.fit(X_train, y_train)\n",
    "\n",
    "# Algoritmo final com os hyper-parâmetros otimizados\n",
    "#KNeighborsClassifier(algorithm='auto', leaf_size=30, metric='minkowski',\n",
    "#                     metric_params=None, n_jobs=None, n_neighbors=7, p=2,\n",
    "#                     weights='uniform')"
   ]
  },
  {
   "cell_type": "markdown",
   "metadata": {},
   "source": [
    "### Aplicando o Leave-One-Out (LOO) para definir o melhor valor de K e a acurácia média."
   ]
  },
  {
   "cell_type": "code",
   "execution_count": 20,
   "metadata": {},
   "outputs": [
    {
     "name": "stdout",
     "output_type": "stream",
     "text": [
      "Melhor K: 7 - Acurácia: 64.56\n"
     ]
    }
   ],
   "source": [
    "neighbors = range(1,10,2)\n",
    "train_accuracy_mean, test_accuracy_mean = [],[]\n",
    "test_accuracy_max, best_k = 0,0\n",
    "\n",
    "for i in neighbors:\n",
    "    train_accuracy, test_accuracy = np.empty(len(X)), np.empty(len(X))\n",
    "\n",
    "    loo = LeaveOneOut()\n",
    "    for train, test in loo.split(X):\n",
    "        X_train, X_test, y_train, y_test = X[train], X[test], y[train], y[test]\n",
    "        \n",
    "        knn = KNeighborsClassifier(n_neighbors=i)\n",
    "        knn.fit(X_train,y_train)\n",
    "\n",
    "        #Calculando acurácia para treinamento e teste\n",
    "        train_accuracy[test], test_accuracy[test] = knn.score(X_train, y_train), knn.score(X_test, y_test)\n",
    "        \n",
    "    train_accuracy_mean.append(train_accuracy.mean())\n",
    "    test_accuracy_mean.append(test_accuracy.mean())\n",
    "\n",
    "    if (np.amax(test_accuracy_mean) > test_accuracy_max):\n",
    "        best_k = i\n",
    "        test_accuracy_max = test_accuracy.mean()\n",
    "\n",
    "train_accuracy_mean, test_accuracy_mean = np.array(train_accuracy_mean), np.array(test_accuracy_mean)\n",
    "\n",
    "print(f\"Melhor K: {best_k} - Acurácia: {round(test_accuracy_max * 100, 2)}\")\n",
    "# output =  Melhor K: 7 - Acurácia: 64.56"
   ]
  }
 ],
 "metadata": {
  "kernelspec": {
   "display_name": "Python 3",
   "language": "python",
   "name": "python3"
  },
  "language_info": {
   "codemirror_mode": {
    "name": "ipython",
    "version": 3
   },
   "file_extension": ".py",
   "mimetype": "text/x-python",
   "name": "python",
   "nbconvert_exporter": "python",
   "pygments_lexer": "ipython3",
   "version": "3.7.6"
  }
 },
 "nbformat": 4,
 "nbformat_minor": 4
}
